{
  "cells": [
    {
      "cell_type": "markdown",
      "source": [
        "**INTEGRANTES**\n",
        "\n",
        "LUIS HUMBERTO RÍOS RUIZ 1863130\n",
        "\n",
        "ALBERTO EMMANUEL GONZÁLEZ MADRIGAL 1866732\n",
        "\n",
        "RENE OZIEL CAVAZOS ORDAZ 1856880\n",
        "\n",
        "MIGUEL ANGEL GONZALEZ RODRIGUEZ 1868970\n"
      ],
      "metadata": {
        "id": "Um73Rr86_uOg"
      }
    },
    {
      "cell_type": "markdown",
      "metadata": {
        "id": "xgAVqCodUgvM"
      },
      "source": [
        "**Librerias a utilizar**\n",
        "\n"
      ]
    },
    {
      "cell_type": "code",
      "execution_count": null,
      "metadata": {
        "colab": {
          "base_uri": "https://localhost:8080/"
        },
        "id": "7H9WmVVVStAt",
        "outputId": "ed8d2d9a-d2c4-4ec5-e0c1-bdb7009796b5"
      },
      "outputs": [
        {
          "output_type": "stream",
          "name": "stdout",
          "text": [
            "2.12.0\n"
          ]
        }
      ],
      "source": [
        "#TensorFlow y tf.keras\n",
        "import tensorflow as tf\n",
        "from tensorflow import keras\n",
        "\n",
        "#Librerias de ayuda\n",
        "import numpy as np\n",
        "import matplotlib.pyplot as plt\n",
        "import cv2\n",
        "import glob\n",
        "import os\n",
        "\n",
        "print(tf.__version__)"
      ]
    },
    {
      "cell_type": "markdown",
      "source": [
        "**EJERCICIO 1**"
      ],
      "metadata": {
        "id": "p3A_yy0tFlVP"
      }
    },
    {
      "cell_type": "markdown",
      "source": [
        "En esta primera parte se probara el dataset generado por nosotros.  Aquí el dataset se divide en 80% para entrenamiento y 20% para prueba."
      ],
      "metadata": {
        "id": "XN6J1YTjFyoc"
      }
    },
    {
      "cell_type": "markdown",
      "metadata": {
        "id": "uQ42BNrQ3hi6"
      },
      "source": [
        "**Cargar Dataset Equipo**"
      ]
    },
    {
      "cell_type": "markdown",
      "source": [
        "Una vez importadas las librerias a utilizar, cargaremos nuesto set de datos. Importamos las imagenes desde google drive"
      ],
      "metadata": {
        "id": "D8PgNUJ5-2fE"
      }
    },
    {
      "cell_type": "markdown",
      "source": [
        "El primer paso es crear dos listas, en la primera se guardaran las imagenes y en la segunda las etiquetas.\n",
        "\n",
        "# **Esta celda solo se debe ejecutar una vez, ya que puede eliminar los elementos almacenados en ella previamene **"
      ],
      "metadata": {
        "id": "IzItcq-4BwpV"
      }
    },
    {
      "cell_type": "code",
      "execution_count": null,
      "metadata": {
        "id": "OBXr7xlsJXLL"
      },
      "outputs": [],
      "source": [
        "# Dataset de equipo\n",
        "ds_team=[]\n",
        "ds_team_labels=[]"
      ]
    },
    {
      "cell_type": "markdown",
      "source": [
        "En el elemento x se copia la ruta donde está guardada la imagen."
      ],
      "metadata": {
        "id": "xd8-Fyc0CxZJ"
      }
    },
    {
      "cell_type": "code",
      "execution_count": null,
      "metadata": {
        "id": "XhO0E_mxFx1D"
      },
      "outputs": [],
      "source": [
        "# Cargar imagen\n",
        "x = \"/content/drive/MyDrive/Numeros/97.png\"\n",
        "mytest_images=cv2.imread(x, cv2.IMREAD_GRAYSCALE)"
      ]
    },
    {
      "cell_type": "code",
      "execution_count": null,
      "metadata": {
        "id": "nS8G7QeRGeNz"
      },
      "outputs": [],
      "source": [
        "# Vista previa\n",
        "plt.imshow(mytest_images,cmap=\"gray\")"
      ]
    },
    {
      "cell_type": "markdown",
      "source": [
        "Una vez importadas las imagenes se redimensionan a 28x28 pixeles y se invierten los colores."
      ],
      "metadata": {
        "id": "X-tWRk7G_655"
      }
    },
    {
      "cell_type": "code",
      "execution_count": null,
      "metadata": {
        "id": "oAx4SIG8H0vB"
      },
      "outputs": [],
      "source": [
        "# Formato para imagen\n",
        "img_resized = cv2.resize(mytest_images,(28,28),interpolation=cv2.INTER_LINEAR)\n",
        "img_resized = cv2.bitwise_not(img_resized)\n",
        "\n",
        "# Vista \n",
        "plt.imshow(img_resized,cmap='gray')"
      ]
    },
    {
      "cell_type": "code",
      "execution_count": null,
      "metadata": {
        "id": "CmrRkHvFJxwH"
      },
      "outputs": [],
      "source": [
        "# En ds_team_labels.append(\"_\") se debera colocar la etiqueta con la que se desea guardar la imagen\n",
        "ds_team.append(img_resized)\n",
        "ds_team_labels.append(\"9\")"
      ]
    },
    {
      "cell_type": "code",
      "execution_count": null,
      "metadata": {
        "id": "B9mM7HuFKA7m"
      },
      "outputs": [],
      "source": [
        "# Cantidad de imagenes en dataset\n",
        "len(ds_team)"
      ]
    },
    {
      "cell_type": "code",
      "execution_count": null,
      "metadata": {
        "id": "8t3uKjcCKUu4"
      },
      "outputs": [],
      "source": [
        "# Etiqueta de la última imagen guardada\n",
        "ds_team_labels[-1]"
      ]
    },
    {
      "cell_type": "markdown",
      "source": [
        "Una vez cargado nuestro dataset compuesto por 400 imagenes. Se divide la lista en dos. Ya que el 70% (380) será utilizada como train_images y el 30% (120) restante como test_images."
      ],
      "metadata": {
        "id": "hWH0HWl_FxEK"
      }
    },
    {
      "cell_type": "code",
      "source": [
        "from numpy.ma.core import indices\n",
        "longitud=len(ds_team)\n",
        "num_primera_parte = int(longitud*0.7)\n",
        "indices= list(range(longitud))"
      ],
      "metadata": {
        "id": "ugH5IUKj-cbo"
      },
      "execution_count": null,
      "outputs": []
    },
    {
      "cell_type": "markdown",
      "source": [
        "Crear dos listas de imágenes"
      ],
      "metadata": {
        "id": "4l7DCz-X-fdz"
      }
    },
    {
      "cell_type": "code",
      "source": [
        "MyTrain_images = [ds_team[i] for i in indices[:num_primera_parte]]\n",
        "MyTest_images = [ds_team[i] for i in indices[num_primera_parte:]]"
      ],
      "metadata": {
        "id": "OLvJ2eQg-iT7"
      },
      "execution_count": null,
      "outputs": []
    },
    {
      "cell_type": "code",
      "source": [
        "print(\"MyTrain_images:\")\n",
        "for imagen in MyTrain_images:\n",
        "  display(imagen)\n",
        "print(\"MyTest_images:\")\n",
        "for imagen in MyTest_images:\n",
        "  display(imagen)"
      ],
      "metadata": {
        "id": "eChbINqb-kVb"
      },
      "execution_count": null,
      "outputs": []
    },
    {
      "cell_type": "markdown",
      "source": [
        "**Pre-Procese el set de datos**"
      ],
      "metadata": {
        "id": "WTwVkGf2GfmI"
      }
    },
    {
      "cell_type": "markdown",
      "source": [
        "El set de datos debe ser pre-procesado antes de entrenar la red. Si usted inspecciona la primera imagen en el set de entrenamiento va a encontrar que los valores de los pixeles estan entre 0 y 255."
      ],
      "metadata": {
        "id": "JdmUm9fEGlWK"
      }
    },
    {
      "cell_type": "code",
      "source": [
        "plt.figure()\n",
        "plt.imshow(ds_team[83])\n",
        "plt.colorbar()\n",
        "plt.grid(False)\n",
        "plt.show()"
      ],
      "metadata": {
        "id": "r8BOKzO7GtHJ"
      },
      "execution_count": null,
      "outputs": []
    },
    {
      "cell_type": "markdown",
      "source": [
        "Escale estos valores en un rango de 0 a 1 antes de alimentarlos al modelo de la red neuronal. Para hacerlo, divida los valores por 255. Es importante que el training set y el testing set se pre-procesen de la misma forma:"
      ],
      "metadata": {
        "id": "kUYIkFQ2KXDp"
      }
    },
    {
      "cell_type": "code",
      "source": [
        "datos = np.array(MyTrain_images)/255.0\n",
        "datos1 = np.array(MyTest_images)/255.0"
      ],
      "metadata": {
        "id": "gEeFY4qXKXS7"
      },
      "execution_count": null,
      "outputs": []
    },
    {
      "cell_type": "markdown",
      "source": [
        "Para verificar que el set de datos esta en el formato adecuado y que estan listos para construir y entrenar la red, vamos a desplegar las primeras 25 imagenes de el training set y despleguemos el nombre de cada clase debajo de cada imagen."
      ],
      "metadata": {
        "id": "pQnEjiTb_B9-"
      }
    },
    {
      "cell_type": "code",
      "source": [
        "plt.figure(figsize=(10,10))\n",
        "for i in range(25):\n",
        "    plt.subplot(5,5,i+1)\n",
        "    plt.xticks([])\n",
        "    plt.yticks([])\n",
        "    plt.grid(False)\n",
        "    plt.imshow(datos[i], cmap=plt.cm.binary)\n",
        "plt.show()"
      ],
      "metadata": {
        "id": "slVINZjn-2QG"
      },
      "execution_count": null,
      "outputs": []
    },
    {
      "cell_type": "markdown",
      "source": [
        "**Construir Modelo**"
      ],
      "metadata": {
        "id": "A5PemLUW_IXB"
      }
    },
    {
      "cell_type": "code",
      "source": [
        "model = keras.Sequential([\n",
        "    keras.layers.Flatten(input_shape=(28,28)),\n",
        "    keras.layers.Dense(128, activation='relu'),\n",
        "    keras.layers.Dense(10,activation='softmax')\n",
        "])"
      ],
      "metadata": {
        "id": "cRgx0GUl_MEZ"
      },
      "execution_count": null,
      "outputs": []
    },
    {
      "cell_type": "code",
      "source": [
        "model.compile(optimizer='adam',\n",
        "              loss='sparse_categorical_crossentropy',\n",
        "              metrics=['accuracy'])"
      ],
      "metadata": {
        "id": "4dS6qrr__N65"
      },
      "execution_count": null,
      "outputs": []
    },
    {
      "cell_type": "code",
      "source": [
        "model.fit(datos,ds_team_labels, epochs=10)"
      ],
      "metadata": {
        "id": "CvzvChfC_Pen"
      },
      "execution_count": null,
      "outputs": []
    },
    {
      "cell_type": "code",
      "source": [
        "test_loss, test_acc = model.evaluate(Mytest_images, test_labels, verbose=2)\n",
        "\n",
        "print('\\nTest accuracy:',test_acc)"
      ],
      "metadata": {
        "id": "gW1nssWS_SeV"
      },
      "execution_count": null,
      "outputs": []
    },
    {
      "cell_type": "code",
      "source": [
        "predictions = model.predict(datos)"
      ],
      "metadata": {
        "id": "_g0vaYnf_XpW"
      },
      "execution_count": null,
      "outputs": []
    },
    {
      "cell_type": "code",
      "source": [
        "predictions[3]"
      ],
      "metadata": {
        "id": "6hvZO_dL_aYt"
      },
      "execution_count": null,
      "outputs": []
    },
    {
      "cell_type": "code",
      "source": [
        "np.argmax(predictions[3])"
      ],
      "metadata": {
        "id": "MeJ5wbfz_cw_"
      },
      "execution_count": null,
      "outputs": []
    },
    {
      "cell_type": "code",
      "source": [
        "Mytest_labels[3]"
      ],
      "metadata": {
        "id": "xVigvHlH_eCx"
      },
      "execution_count": null,
      "outputs": []
    },
    {
      "cell_type": "code",
      "source": [
        "def plot_image(i, predictions_array, true_label, img):\n",
        "  predictions_array, true_label, img = predictions_array, true_label[i], img[i]\n",
        "  plt.grid(False)\n",
        "  plt.xticks([])\n",
        "  plt.yticks([])\n",
        "\n",
        "  plt.imshow(img, cmap=plt.cm.binary)\n",
        "\n",
        "  predicted_label = np.argmax(predictions_array)\n",
        "  if predicted_label == true_label:\n",
        "    color = 'blue'\n",
        "  else:\n",
        "    color = 'red'\n",
        "\n",
        "  plt.xlabel(\"{} {:2.0f}% ({})\".format(class_names[predicted_label],\n",
        "                                100*np.max(predictions_array),\n",
        "                                class_names[true_label]),\n",
        "                                color=color)\n",
        "\n",
        "def plot_value_array(i, predictions_array, true_label):\n",
        "  predictions_array, true_label = predictions_array, true_label[i]\n",
        "  plt.grid(False)\n",
        "  plt.xticks(range(10))\n",
        "  plt.yticks([])\n",
        "  thisplot = plt.bar(range(10), predictions_array, color=\"#777777\")\n",
        "  plt.ylim([0, 1])\n",
        "  predicted_label = np.argmax(predictions_array)\n",
        "\n",
        "  thisplot[predicted_label].set_color('red')\n",
        "  thisplot[true_label].set_color('blue')"
      ],
      "metadata": {
        "id": "Hhr91Ndw_fTx"
      },
      "execution_count": null,
      "outputs": []
    },
    {
      "cell_type": "code",
      "source": [
        "i = 3\n",
        "plt.figure(figsize=(6,3))\n",
        "plt.subplot(1,2,1)\n",
        "plot_image(i, predictions[i], test_labels, Mytest_images)\n",
        "plt.subplot(1,2,2)\n",
        "plot_value_array(i, predictions[i],  test_labels)\n",
        "plt.show()"
      ],
      "metadata": {
        "id": "426uem4n_jFq"
      },
      "execution_count": null,
      "outputs": []
    },
    {
      "cell_type": "code",
      "source": [
        "i = 78\n",
        "plt.figure(figsize=(6,3))\n",
        "plt.subplot(1,2,1)\n",
        "plot_image(i, predictions[i], test_labels, Mytest_images)\n",
        "plt.subplot(1,2,2)\n",
        "plot_value_array(i, predictions[i],  test_labels)\n",
        "plt.show()"
      ],
      "metadata": {
        "id": "phOfiaU1_lEN"
      },
      "execution_count": null,
      "outputs": []
    },
    {
      "cell_type": "markdown",
      "source": [
        "**Ejercicio 2**"
      ],
      "metadata": {
        "id": "jJ4qtipR-yry"
      }
    },
    {
      "cell_type": "markdown",
      "metadata": {
        "id": "ZhmX7kEjUtZw"
      },
      "source": [
        "**Cargar conjunto de datos MNIST**"
      ]
    },
    {
      "cell_type": "code",
      "execution_count": null,
      "metadata": {
        "id": "Kw5h113tUywh"
      },
      "outputs": [],
      "source": [
        "digits_mnist = keras.datasets.mnist\n",
        "\n",
        "(train_images, train_labels), (test_images, test_labels)=digits_mnist.load_data()"
      ]
    },
    {
      "cell_type": "markdown",
      "metadata": {
        "id": "qLZUpPuAXZuL"
      },
      "source": [
        "Cada imagen es mapeada a una unica etiqueta. Ya que los Class names no están incluidos en  el dataset, alacenelo aca para usarlos luego cuando se visualicen las imagenes:"
      ]
    },
    {
      "cell_type": "code",
      "execution_count": null,
      "metadata": {
        "id": "oBE4SjkwXo58"
      },
      "outputs": [],
      "source": [
        "class_names = ['CERO', 'UNO','DOS','TRES','CUATRO','CINCO','SEIS','SIETE','OCHO','NUEVE']"
      ]
    },
    {
      "cell_type": "code",
      "source": [
        "plt.figure(figsize=(10,10))\n",
        "for i in range(25):\n",
        "    plt.subplot(5,5,i+1)\n",
        "    plt.xticks([])\n",
        "    plt.yticks([])\n",
        "    plt.grid(False)\n",
        "    plt.imshow(datos[i], cmap=plt.cm.binary)\n",
        "plt.show()"
      ],
      "metadata": {
        "id": "sKkkHXHO-ruV"
      },
      "execution_count": null,
      "outputs": []
    },
    {
      "cell_type": "markdown",
      "metadata": {
        "id": "dHoFlu7AWRsw"
      },
      "source": [
        "**Explore el set de datos**"
      ]
    },
    {
      "cell_type": "markdown",
      "metadata": {
        "id": "NuSCM-sdWYKZ"
      },
      "source": [
        "Explore el formato del set de datos antes de entrenar el modelo. Lo siguiente muestra que hay 60,000 imagenes en el set de entrenamiento, con cada imagen representada por pixeles de 28x28:"
      ]
    },
    {
      "cell_type": "code",
      "execution_count": null,
      "metadata": {
        "id": "WdXcaFF_WVq0"
      },
      "outputs": [],
      "source": [
        "train_images.shape"
      ]
    },
    {
      "cell_type": "markdown",
      "metadata": {
        "id": "M37YpHj9W0WX"
      },
      "source": [
        "Asimismo, hay 60,000 etiquetas en el set de entrenamiento:"
      ]
    },
    {
      "cell_type": "code",
      "execution_count": null,
      "metadata": {
        "id": "0nDhdECuW6_-"
      },
      "outputs": [],
      "source": [
        "len(train_labels)"
      ]
    },
    {
      "cell_type": "markdown",
      "metadata": {
        "id": "uBWMpGFKXARz"
      },
      "source": [
        "Cada etiqueta es un int entre 0 y 9:"
      ]
    },
    {
      "cell_type": "code",
      "execution_count": null,
      "metadata": {
        "id": "Y-fA8q-RXGDF"
      },
      "outputs": [],
      "source": [
        "train_labels"
      ]
    },
    {
      "cell_type": "markdown",
      "metadata": {
        "id": "e5rFrEAeYlpu"
      },
      "source": [
        "Hay 10,000 imagenes en el set de pruebas. Otra vez, cada imagen es representada como pixeles de 28x28:"
      ]
    },
    {
      "cell_type": "code",
      "execution_count": null,
      "metadata": {
        "id": "cKMHZwfjYzRA"
      },
      "outputs": [],
      "source": [
        "test_images.shape"
      ]
    },
    {
      "cell_type": "markdown",
      "metadata": {
        "id": "s7OfHulIY_WG"
      },
      "source": [
        "Y el set de pruebas contiene 10,000 etiquetas de imagen:"
      ]
    },
    {
      "cell_type": "code",
      "execution_count": null,
      "metadata": {
        "id": "U_3H-iBZZE_e"
      },
      "outputs": [],
      "source": [
        "len(test_labels)"
      ]
    },
    {
      "cell_type": "markdown",
      "metadata": {
        "id": "_ex4P6VVZMSn"
      },
      "source": [
        "**Pre-Procese el set de datos**"
      ]
    },
    {
      "cell_type": "markdown",
      "metadata": {
        "id": "3PCZro1fZcBv"
      },
      "source": [
        "El set de datos debe ser pre-procesado antes de entrenar la red. Si usted inspecciona la primera imagen en el set de entrenamiento va a encontrar que los valores de los pixeles estan entre 0 y 255"
      ]
    },
    {
      "cell_type": "code",
      "execution_count": null,
      "metadata": {
        "id": "I2YRH7zIZZ5C"
      },
      "outputs": [],
      "source": [
        "plt.figure()\n",
        "plt.imshow(train_images[-1])\n",
        "plt.colorbar()\n",
        "plt.grid(False)\n",
        "plt.show()"
      ]
    },
    {
      "cell_type": "markdown",
      "metadata": {
        "id": "x8fYBxQij_yC"
      },
      "source": [
        "Escale estos valores en un rango de 0 a 1 antes de alimentarlos al modelo de la red neuronal. Para hacerlo, divida los valores por 255. Es importante que el training set y el testing set se pre-procesen de la misma forma:"
      ]
    },
    {
      "cell_type": "code",
      "execution_count": null,
      "metadata": {
        "id": "wNkZ8kPdyQkw"
      },
      "outputs": [],
      "source": [
        "train_images=train_images/255.0\n",
        "\n",
        "test_images=test_images/255.0"
      ]
    },
    {
      "cell_type": "markdown",
      "metadata": {
        "id": "F2ki3iq-ywyP"
      },
      "source": [
        "Para verificar que el set de datos esta en el formato adecuado y que estan listos para construir y entrenar la red, vamos a desplegar las primeras 25 imagenes de el training set y despleguemos el nombre de cada clase debajo de cada imagen."
      ]
    },
    {
      "cell_type": "code",
      "execution_count": null,
      "metadata": {
        "id": "EYiG2q4QzN8t"
      },
      "outputs": [],
      "source": [
        "plt.figure(figsize=(10,10))\n",
        "for i in range(25):\n",
        "  plt.subplot(5,5,i+1)\n",
        "  plt.xticks([])\n",
        "  plt.yticks([])\n",
        "  plt.grid(False)\n",
        "  plt.imshow(train_images[i],cmap=plt.cm.binary)\n",
        "  plt.xlabel(class_names[train_labels[i]])\n",
        "plt.show()"
      ]
    },
    {
      "cell_type": "markdown",
      "metadata": {
        "id": "VYNZ173D1aHe"
      },
      "source": [
        "**Construir modelo**"
      ]
    },
    {
      "cell_type": "markdown",
      "metadata": {
        "id": "u9t6Jbl21fjb"
      },
      "source": [
        "Construir la red neuronal requiere configurar las capas del modelo y luego compilar el modelo."
      ]
    },
    {
      "cell_type": "markdown",
      "metadata": {
        "id": "HeJOF7wJ1qii"
      },
      "source": [
        "**Configurar las capas**"
      ]
    },
    {
      "cell_type": "markdown",
      "metadata": {
        "id": "QdG5wOCh1uqF"
      },
      "source": [
        "Los bloques de construcción basicos de una red neuronal son las capas o layers. Las capas extraen representaciones de el set de datos que se les alimentan. Con suerte, estas representaciones son cosiderables para el problema que estamos solucionando.\n",
        "\n",
        "La mayoria de aprednizaje profundo consiste de unir capas sencillas. La mayoria de las capas como tf.keras.layers.Dense, tienen parametros que son aprendidos durante el entrenamiento."
      ]
    },
    {
      "cell_type": "code",
      "execution_count": null,
      "metadata": {
        "id": "DOKkQ38x2QJL"
      },
      "outputs": [],
      "source": [
        "model = keras.Sequential([\n",
        "    keras.layers.Flatten(input_shape=(28,28)),\n",
        "    keras.layers.Dense(128, activation='relu'),\n",
        "    keras.layers.Dense(10,activation='softmax')\n",
        "])"
      ]
    },
    {
      "cell_type": "markdown",
      "metadata": {
        "id": "GGOUUVME3MTW"
      },
      "source": [
        "La primera capa de esta red, tf.keras.layers.Flatten, transforma el formato de las imagenes de un arreglo bi-dimensional (de 28 por 28 pixeles) a un arrelo uni dimensional (de 28*28 pixeles = 784 pixeles), observe esta capa como una capa no apilada de filas de pixeles en la misma imagen y alineandolo. Esta capa no tiene parametros que aprenderm solo reformatea el set de datos.\n",
        "\n",
        "Despues de que los pixeles esten \"aplanados\", la secuencia consiste de dos capas tf.keras.layers.Dense. Estas estan densamente conectadas, o completamente conectadas. La primera capa Dense tiene 128 nodos (o neuronas). La segunda (y ultima) capa es una capa de 10 nodos softmax que devuelve un arreglo de 10 posibilidades que suman a 1. Cada nodo contiene una calificación que indica la probabilidad que la actual imagen pertenece a una de las 10 clases."
      ]
    },
    {
      "cell_type": "markdown",
      "metadata": {
        "id": "BsJiYFT04hB8"
      },
      "source": [
        "**Compile el modelo**"
      ]
    },
    {
      "cell_type": "markdown",
      "metadata": {
        "id": "4np6hwO55AdL"
      },
      "source": [
        "Antes de que el modelo este listo para entrenar, se necesitan algunas configuraciones mas. Estas son agregadas durante el paso de compilacion del modelo:\n",
        "\n",
        "Loss function - Esto mide que tan exacto es el modelo durante el entrenamiento. Quiere minimizar esta funcion para dirigir el modelo en la dirección adecuada.\n",
        "\n",
        "Optimizer - Esto es como el modelo se actualiza basado en el set de datos que ve y la funcion de perdida.\n",
        "\n",
        "Metrics - Se usan para monitorear los pasos de entrenamiento y de pruebas. El siguiente ejemplo usa accuracy (exactitud), la fracción de la imagenes que son correctamente clasificadas."
      ]
    },
    {
      "cell_type": "code",
      "execution_count": null,
      "metadata": {
        "id": "4gGYTODc7CCx"
      },
      "outputs": [],
      "source": [
        "model.compile(optimizer='adam',\n",
        "              loss='sparse_categorical_crossentropy',\n",
        "              metrics=['accuracy'])"
      ]
    },
    {
      "cell_type": "markdown",
      "metadata": {
        "id": "YxjHN-Sy7rGr"
      },
      "source": [
        "**Entrenar el modelo**"
      ]
    },
    {
      "cell_type": "markdown",
      "metadata": {
        "id": "8rVos9vs7ukh"
      },
      "source": [
        "Entrenar el modelo de red neuronal requiere de los siguientes pasos: \n",
        "\n",
        "1. Entregue los datos de entrenamiento al modelo. En este ejemplo, el set de \n",
        "  de datos de entrenamiento estan en los arreglos train_images y train_labes.\n",
        "2. El modelo aprende a asociar imagenes y etiquetas.\n",
        "3. Usted le pregunta al modelo que haga predicciones sobre un set de datos que \n",
        "  se encuentran en el ejemplo, incluido en el arreglo test_images. Verifique que las preducciones sean iguales a las etiquetas de el arreglo test_labels.\n",
        "\n"
      ]
    },
    {
      "cell_type": "markdown",
      "metadata": {
        "id": "Ffqgp6kE8yXK"
      },
      "source": [
        "Para comenzar a entrenar, llame el metodo model.fit, es llamado asi por que fin (ajusta) el modelo a el set de datos de entrenamiento:"
      ]
    },
    {
      "cell_type": "code",
      "execution_count": null,
      "metadata": {
        "id": "11Zmmoi-9Yz2"
      },
      "outputs": [],
      "source": [
        "model.fit(train_images,train_labels, epochs=10)"
      ]
    },
    {
      "cell_type": "markdown",
      "metadata": {
        "id": "Rtz1L8GG-h2H"
      },
      "source": [
        "A medida que el modelo entrena, la perdida y la exactitud son desplegadas. Este modelo alcanza una exactitud de 0.88 sobre el set de datos de entrenamiento."
      ]
    },
    {
      "cell_type": "markdown",
      "metadata": {
        "id": "jxY5-j7H-wkM"
      },
      "source": [
        "**Evaluar exactitud**"
      ]
    },
    {
      "cell_type": "markdown",
      "metadata": {
        "id": "J6hlASEX-0Zy"
      },
      "source": [
        "Siguiente, compare como el rendimiento del modelo sobre el set de datos:"
      ]
    },
    {
      "cell_type": "code",
      "execution_count": null,
      "metadata": {
        "id": "vnjH0-6--70w"
      },
      "outputs": [],
      "source": [
        "test_loss, test_acc = model.evaluate(test_images, test_labels, verbose=2)\n",
        "\n",
        "print('\\nTest accuracy:',test_acc)"
      ]
    },
    {
      "cell_type": "markdown",
      "metadata": {
        "id": "xF82lPlI_oFP"
      },
      "source": [
        "**Hacer predicciones**"
      ]
    },
    {
      "cell_type": "markdown",
      "metadata": {
        "id": "nUY5OZ0j_sL2"
      },
      "source": [
        "Con el modelo entrenado usted puede usarlo para hacer predicciones sobre imagenes."
      ]
    },
    {
      "cell_type": "code",
      "execution_count": null,
      "metadata": {
        "id": "oaVrnFxq_0Qm"
      },
      "outputs": [],
      "source": [
        "predictions = model.predict(test_images)"
      ]
    },
    {
      "cell_type": "markdown",
      "metadata": {
        "id": "_2yoGZ52AB3z"
      },
      "source": [
        "Aca el modelo ha precdecido la etiqueta para cada imagen en el set de datos de test (prueba). Miremos la primera predicción:"
      ]
    },
    {
      "cell_type": "code",
      "execution_count": null,
      "metadata": {
        "id": "nJifhpO0KM31"
      },
      "outputs": [],
      "source": [
        "predictions[0]"
      ]
    },
    {
      "cell_type": "markdown",
      "metadata": {
        "id": "gcsDDhjsMx6m"
      },
      "source": [
        "Una prediccion es un arreglo de 10 numeros. Estos representan el nivel de \"confianza\" del modelo sobre las imagenes de cada uno de los 10 numeros. Ustedes pueden revisar cual tiene el nivel más alto de confianza:"
      ]
    },
    {
      "cell_type": "code",
      "execution_count": null,
      "metadata": {
        "id": "u1xjPcaENEqQ"
      },
      "outputs": [],
      "source": [
        "np.argmax(predictions[0])"
      ]
    },
    {
      "cell_type": "markdown",
      "metadata": {
        "id": "oTY0Duz7NXEQ"
      },
      "source": [
        "Entonces, el modelo tiene mayor confianza que esta imagen es una bota de tobillo \"ankle boot\" o class_names[9]. Examinando las etiquetas de test o de pruebas muestra que esta clasificación es correcta:"
      ]
    },
    {
      "cell_type": "code",
      "execution_count": null,
      "metadata": {
        "id": "VktZals5NqYC"
      },
      "outputs": [],
      "source": [
        "test_labels[0]"
      ]
    },
    {
      "cell_type": "markdown",
      "metadata": {
        "id": "smYPf6wsUbLj"
      },
      "source": [
        "Grafique esto para poder ver todo el set de la prediccion de las 10 clases."
      ]
    },
    {
      "cell_type": "code",
      "execution_count": null,
      "metadata": {
        "id": "RBmXWRi-jGYl"
      },
      "outputs": [],
      "source": [
        "def plot_image(i, predictions_array, true_label, img):\n",
        "  predictions_array, true_label, img = predictions_array, true_label[i], img[i]\n",
        "  plt.grid(False)\n",
        "  plt.xticks([])\n",
        "  plt.yticks([])\n",
        "\n",
        "  plt.imshow(img, cmap=plt.cm.binary)\n",
        "\n",
        "  predicted_label = np.argmax(predictions_array)\n",
        "  if predicted_label == true_label:\n",
        "    color = 'blue'\n",
        "  else:\n",
        "    color = 'red'\n",
        "\n",
        "  plt.xlabel(\"{} {:2.0f}% ({})\".format(class_names[predicted_label],\n",
        "                                100*np.max(predictions_array),\n",
        "                                class_names[true_label]),\n",
        "                                color=color)\n",
        "\n",
        "def plot_value_array(i, predictions_array, true_label):\n",
        "  predictions_array, true_label = predictions_array, true_label[i]\n",
        "  plt.grid(False)\n",
        "  plt.xticks(range(10))\n",
        "  plt.yticks([])\n",
        "  thisplot = plt.bar(range(10), predictions_array, color=\"#777777\")\n",
        "  plt.ylim([0, 1])\n",
        "  predicted_label = np.argmax(predictions_array)\n",
        "\n",
        "  thisplot[predicted_label].set_color('red')\n",
        "  thisplot[true_label].set_color('blue')"
      ]
    },
    {
      "cell_type": "code",
      "execution_count": null,
      "metadata": {
        "id": "f1aQvZVAjewE"
      },
      "outputs": [],
      "source": [
        "i = 0\n",
        "plt.figure(figsize=(6,3))\n",
        "plt.subplot(1,2,1)\n",
        "plot_image(i, predictions[i], test_labels, Mytest_images)\n",
        "plt.subplot(1,2,2)\n",
        "plot_value_array(i, predictions[i],  test_labels)\n",
        "plt.show()"
      ]
    },
    {
      "cell_type": "code",
      "execution_count": null,
      "metadata": {
        "id": "OLkFSat9jssA"
      },
      "outputs": [],
      "source": [
        "i = 12\n",
        "plt.figure(figsize=(6,3))\n",
        "plt.subplot(1,2,1)\n",
        "plot_image(i, predictions[i], test_labels, Mytest_images)\n",
        "plt.subplot(1,2,2)\n",
        "plot_value_array(i, predictions[i],  test_labels)\n",
        "plt.show()"
      ]
    }
  ],
  "metadata": {
    "colab": {
      "provenance": []
    },
    "kernelspec": {
      "display_name": "Python 3",
      "name": "python3"
    },
    "language_info": {
      "name": "python"
    }
  },
  "nbformat": 4,
  "nbformat_minor": 0
}